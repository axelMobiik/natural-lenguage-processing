{
 "cells": [
  {
   "cell_type": "markdown",
   "id": "02ea6420-a72e-4ac7-9d1b-753e563fe807",
   "metadata": {},
   "source": [
    "<h1>Introduction to Natural Language Processing</h1>\n",
    "\n",
    "<p>\n",
    "    Imagine you work for Google News and you want to group news articles by topic\n",
    "    <br>Or you work for a legal firm and you need to sift through thousands of pages of legal documents to find relevant ones.\n",
    "    <br>This is where NLP can help!\n",
    "    <br>We will want to:\n",
    "    <li>Compile Documents</li>\n",
    "    <li>Featuriza Them</li>\n",
    "    <li>Compare their features</li>\n",
    "    Simple Example:\n",
    "    <li>You have 2 documents:</li>\n",
    "    <li>> \"Blue House\"</li>\n",
    "    <li>> \"Red House\"</li>\n",
    "    <li>Featurize based on word count: </li>\n",
    "    <li>> \"Blue House\" -> (red, blue, house) -> (0, 1, 1)</li>\n",
    "    <li>> \"Red House\" -> (red, blue, house) -> (1, 0, 1)</li>\n",
    "</p>\n",
    "<p>\n",
    "    A document represented as a vector of word counts is called a \"Bag of Words\"\n",
    "    <li>\"Blue House\" -> (red, blue, house) -> (0, 1, 1)</li>\n",
    "    <li>\"Red House\" -> (red, blue, house) -> (1, 0, 1)</li>\n",
    "    You can use cosine similarity on the vectors made to determine similarity\n",
    "</p>\n",
    "<p>\n",
    "    We can improve on Bag of Words by adjusting word counts based on their frequency in corpus (the group of all the documents).\n",
    "    <br>We can use TF-IDF (Term Frequency - Inverse Document Frequency)\n",
    "</p>\n",
    "<p>\n",
    "    Term Frequency - Importance of the term within that document\n",
    "    <li>TF(d, t) = Number of occurrences of term t in document d</li>\n",
    "    <br>Inverse Document Frequency - Importance of the term in the corpus\n",
    "    <li>IDF(t) = log(D/t) where</li>\n",
    "    <li>> D = total number of documents</li>\n",
    "    <li>> t = number of documents with the term</li>\n",
    "</p>\n",
    "<p>\n",
    "    Before we get started with Natural Language Processing and Python we'll need to download an additional library, go to your terminal or command line and use: <code>conda install nltk</code> or <code>pip install nltk</code>\n",
    "</p>\n",
    "</p>"
   ]
  },
  {
   "cell_type": "code",
   "execution_count": null,
   "id": "d7874a0b-4f9e-40b0-ab7e-ea238a33cfce",
   "metadata": {},
   "outputs": [],
   "source": []
  }
 ],
 "metadata": {
  "kernelspec": {
   "display_name": "Python 3 (ipykernel)",
   "language": "python",
   "name": "python3"
  },
  "language_info": {
   "codemirror_mode": {
    "name": "ipython",
    "version": 3
   },
   "file_extension": ".py",
   "mimetype": "text/x-python",
   "name": "python",
   "nbconvert_exporter": "python",
   "pygments_lexer": "ipython3",
   "version": "3.11.7"
  }
 },
 "nbformat": 4,
 "nbformat_minor": 5
}
